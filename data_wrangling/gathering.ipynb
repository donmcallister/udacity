{
 "cells": [
  {
   "cell_type": "markdown",
   "metadata": {},
   "source": [
    "## Quiz"
   ]
  },
  {
   "cell_type": "code",
   "execution_count": 23,
   "metadata": {},
   "outputs": [],
   "source": [
    "from bs4 import BeautifulSoup\n",
    "import os\n",
    "import pandas as pd"
   ]
  },
  {
   "cell_type": "code",
   "execution_count": 26,
   "metadata": {},
   "outputs": [],
   "source": [
    "# List of dictionaries to build file by file and later convert to a DataFrame\n",
    "df_list = []\n",
    "folder = 'rt_html'\n",
    "for movie_html in os.listdir(folder):\n",
    "    with open(os.path.join(folder, movie_html)) as file:\n",
    "        # make the soup\n",
    "        soup = BeautifulSoup(file, 'lxml')\n",
    "        # grab the title\n",
    "        title = soup.find('title').contents[0][:-len(' - Rotten Tomatoes')]\n",
    "        # confirming with print and break.. \n",
    "        #print(title)\n",
    "        #break\n",
    "        #audience-score found in div class and inside only span within it:\n",
    "        audience_score = soup.find('div', class_='audience-score meter').find('span').contents[0][:-1]\n",
    "        #print(audience_score)\n",
    "        #break\n",
    "        #<span class=\"superPageFontColor\" style=\"vertical-align:top\">92%</span>\n",
    "        #92 (with the .contents[0][:-1])\n",
    "        num_audience_ratings = soup.find('div', class_='audience-info hidden-xs superPageFontColor').find_all('div')[1].contents[2].strip().replace(',', '')\n",
    "        #print(num_audience_ratings)\n",
    "        #break\n",
    "        \n",
    "         #Append to list of dictionaries\n",
    "        df_list.append({'title': title,\n",
    "                        'audience_score': int(audience_score),\n",
    "                        'number_of_audience_ratings': int(num_audience_ratings)})\n",
    "df = pd.DataFrame(df_list, columns = ['title', 'audience_score', 'number_of_audience_ratings'])"
   ]
  },
  {
   "cell_type": "code",
   "execution_count": 27,
   "metadata": {},
   "outputs": [
    {
     "data": {
      "text/html": [
       "<div>\n",
       "<style scoped>\n",
       "    .dataframe tbody tr th:only-of-type {\n",
       "        vertical-align: middle;\n",
       "    }\n",
       "\n",
       "    .dataframe tbody tr th {\n",
       "        vertical-align: top;\n",
       "    }\n",
       "\n",
       "    .dataframe thead th {\n",
       "        text-align: right;\n",
       "    }\n",
       "</style>\n",
       "<table border=\"1\" class=\"dataframe\">\n",
       "  <thead>\n",
       "    <tr style=\"text-align: right;\">\n",
       "      <th></th>\n",
       "      <th>title</th>\n",
       "      <th>audience_score</th>\n",
       "      <th>number_of_audience_ratings</th>\n",
       "    </tr>\n",
       "  </thead>\n",
       "  <tbody>\n",
       "    <tr>\n",
       "      <th>0</th>\n",
       "      <td>Zootopia (2016)</td>\n",
       "      <td>92</td>\n",
       "      <td>98633</td>\n",
       "    </tr>\n",
       "    <tr>\n",
       "      <th>1</th>\n",
       "      <td>The Treasure of the Sierra Madre (1948)</td>\n",
       "      <td>93</td>\n",
       "      <td>25627</td>\n",
       "    </tr>\n",
       "    <tr>\n",
       "      <th>2</th>\n",
       "      <td>All Quiet on the Western Front (1930)</td>\n",
       "      <td>89</td>\n",
       "      <td>17768</td>\n",
       "    </tr>\n",
       "    <tr>\n",
       "      <th>3</th>\n",
       "      <td>Rear Window (1954)</td>\n",
       "      <td>95</td>\n",
       "      <td>149458</td>\n",
       "    </tr>\n",
       "    <tr>\n",
       "      <th>4</th>\n",
       "      <td>Selma (2015)</td>\n",
       "      <td>86</td>\n",
       "      <td>60533</td>\n",
       "    </tr>\n",
       "    <tr>\n",
       "      <th>...</th>\n",
       "      <td>...</td>\n",
       "      <td>...</td>\n",
       "      <td>...</td>\n",
       "    </tr>\n",
       "    <tr>\n",
       "      <th>95</th>\n",
       "      <td>The Night of the Hunter (1955)</td>\n",
       "      <td>90</td>\n",
       "      <td>24322</td>\n",
       "    </tr>\n",
       "    <tr>\n",
       "      <th>96</th>\n",
       "      <td>A Streetcar Named Desire (1951)</td>\n",
       "      <td>90</td>\n",
       "      <td>54761</td>\n",
       "    </tr>\n",
       "    <tr>\n",
       "      <th>97</th>\n",
       "      <td>Arrival (2016)</td>\n",
       "      <td>82</td>\n",
       "      <td>78740</td>\n",
       "    </tr>\n",
       "    <tr>\n",
       "      <th>98</th>\n",
       "      <td>Skyfall (2012)</td>\n",
       "      <td>86</td>\n",
       "      <td>372497</td>\n",
       "    </tr>\n",
       "    <tr>\n",
       "      <th>99</th>\n",
       "      <td>Star Trek (2009)</td>\n",
       "      <td>91</td>\n",
       "      <td>746458</td>\n",
       "    </tr>\n",
       "  </tbody>\n",
       "</table>\n",
       "<p>100 rows × 3 columns</p>\n",
       "</div>"
      ],
      "text/plain": [
       "                                      title  audience_score  \\\n",
       "0                           Zootopia (2016)              92   \n",
       "1   The Treasure of the Sierra Madre (1948)              93   \n",
       "2     All Quiet on the Western Front (1930)              89   \n",
       "3                        Rear Window (1954)              95   \n",
       "4                              Selma (2015)              86   \n",
       "..                                      ...             ...   \n",
       "95           The Night of the Hunter (1955)              90   \n",
       "96          A Streetcar Named Desire (1951)              90   \n",
       "97                           Arrival (2016)              82   \n",
       "98                           Skyfall (2012)              86   \n",
       "99                         Star Trek (2009)              91   \n",
       "\n",
       "    number_of_audience_ratings  \n",
       "0                        98633  \n",
       "1                        25627  \n",
       "2                        17768  \n",
       "3                       149458  \n",
       "4                        60533  \n",
       "..                         ...  \n",
       "95                       24322  \n",
       "96                       54761  \n",
       "97                       78740  \n",
       "98                      372497  \n",
       "99                      746458  \n",
       "\n",
       "[100 rows x 3 columns]"
      ]
     },
     "execution_count": 27,
     "metadata": {},
     "output_type": "execute_result"
    }
   ],
   "source": [
    "df"
   ]
  },
  {
   "cell_type": "markdown",
   "metadata": {},
   "source": [
    "## Solution Test\n",
    "Run the cell below the see if your solution is correct. If an `AssertionError` is thrown, your solution is incorrect. If no error is thrown, your solution is correct."
   ]
  },
  {
   "cell_type": "code",
   "execution_count": 28,
   "metadata": {},
   "outputs": [],
   "source": [
    "#df_solution = pd.read_pickle('df_solution.pkl')\n",
    "#df.sort_values('title', inplace = True)\n",
    "#df.reset_index(inplace = True, drop = True)\n",
    "#df_solution.sort_values('title', inplace = True)\n",
    "#df_solution.reset_index(inplace = True, drop = True)\n",
    "#pd.testing.assert_frame_equal(df, df_solution)"
   ]
  },
  {
   "cell_type": "code",
   "execution_count": null,
   "metadata": {},
   "outputs": [],
   "source": []
  }
 ],
 "metadata": {
  "kernelspec": {
   "display_name": "Python 3",
   "language": "python",
   "name": "python3"
  },
  "language_info": {
   "codemirror_mode": {
    "name": "ipython",
    "version": 3
   },
   "file_extension": ".py",
   "mimetype": "text/x-python",
   "name": "python",
   "nbconvert_exporter": "python",
   "pygments_lexer": "ipython3",
   "version": "3.8.5"
  }
 },
 "nbformat": 4,
 "nbformat_minor": 2
}
